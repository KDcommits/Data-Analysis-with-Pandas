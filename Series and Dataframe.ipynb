{
 "cells": [
  {
   "cell_type": "markdown",
   "id": "04617421",
   "metadata": {},
   "source": [
    "<h1 align=\"center\"> Series and DataFrame </h1>"
   ]
  },
  {
   "cell_type": "markdown",
   "id": "60569de9",
   "metadata": {},
   "source": [
    "## Series <br>\n",
    "A Series is a one-dimensional array-like object containing an array of data (of any NumPy data type) and an associated array of data labels, called its index"
   ]
  },
  {
   "cell_type": "code",
   "execution_count": 12,
   "id": "952803c7",
   "metadata": {},
   "outputs": [],
   "source": [
    "import pandas as pd\n",
    "import warnings\n",
    "warnings.filterwarnings('ignore')"
   ]
  },
  {
   "cell_type": "code",
   "execution_count": 13,
   "id": "5a0ba253",
   "metadata": {
    "scrolled": false
   },
   "outputs": [
    {
     "data": {
      "text/plain": [
       "a   -5\n",
       "b    7\n",
       "c   -5\n",
       "d    3\n",
       "dtype: int64"
      ]
     },
     "execution_count": 13,
     "metadata": {},
     "output_type": "execute_result"
    }
   ],
   "source": [
    "List=[-5, 7, -5, 3]\n",
    "Index=['a','b','c','d']\n",
    "obj= pd.Series(List,Index)\n",
    "obj\n"
   ]
  },
  {
   "cell_type": "code",
   "execution_count": 3,
   "id": "9d16de3c",
   "metadata": {},
   "outputs": [
    {
     "name": "stdout",
     "output_type": "stream",
     "text": [
      "Index(['a', 'b', 'c', 'd'], dtype='object')\n",
      "True\n",
      "[-5  7 -5  3]\n",
      "<class 'pandas.core.series.Series'>\n",
      "a   -5\n",
      "b    7\n",
      "c   -5\n",
      "d    3\n",
      "dtype: int64\n",
      "-5\n",
      "a   -5\n",
      "c   -5\n",
      "dtype: int64\n"
     ]
    }
   ],
   "source": [
    "print(obj.index)\n",
    "print(obj.index.is_unique) \n",
    "print(obj.values)\n",
    "print(type(obj))\n",
    "print(obj)\n",
    "print(obj[2])\n",
    "print(obj[['a','c']])\n"
   ]
  },
  {
   "cell_type": "code",
   "execution_count": 5,
   "id": "db001241",
   "metadata": {},
   "outputs": [
    {
     "name": "stdout",
     "output_type": "stream",
     "text": [
      "a    7\n",
      "b    7\n",
      "c    7\n",
      "dtype: int64\n",
      "a    14\n",
      "b    14\n",
      "c    14\n",
      "d     6\n",
      "dtype: int64\n",
      "True\n",
      "False\n"
     ]
    }
   ],
   "source": [
    "obj[obj<0]=0\n",
    "# obj['a':'c']=7\n",
    "# obj['b','c']=-2\n",
    "print(obj[obj>4])\n",
    "print(obj*2)\n",
    "print('b' in obj)\n",
    "print('k' in obj)\n"
   ]
  },
  {
   "cell_type": "code",
   "execution_count": 6,
   "id": "061981cf",
   "metadata": {},
   "outputs": [
    {
     "name": "stdout",
     "output_type": "stream",
     "text": [
      "float64\n",
      "[-4.  3.  7.]\n",
      "count    5.000000\n",
      "mean     4.000000\n",
      "std      4.795832\n",
      "min     -4.000000\n",
      "25%      3.000000\n",
      "50%      7.000000\n",
      "75%      7.000000\n",
      "max      7.000000\n",
      "dtype: float64\n",
      "7.0 -4.0 4.0 4.795831523312719\n",
      "e    False\n",
      "d    False\n",
      "c    False\n",
      "b    False\n",
      "a    False\n",
      "dtype: bool\n",
      "e    True\n",
      "d    True\n",
      "c    True\n",
      "b    True\n",
      "a    True\n",
      "dtype: bool\n",
      "AxesSubplot(0.125,0.11;0.775x0.77)\n"
     ]
    },
    {
     "data": {
      "image/png": "[encoded data removed]",
      "text/plain": [
       "<Figure size 640x480 with 1 Axes>"
      ]
     },
     "metadata": {},
     "output_type": "display_data"
    }
   ],
   "source": [
    "obj=obj.reindex(['e','d','c','b','a'],fill_value=-4.0)\n",
    "print(obj.dtypes)\n",
    "print(obj.unique())\n",
    "print(obj.describe())\n",
    "print(obj.max(), obj.min(), obj.mean(), obj.std())\n",
    "print(pd.isnull(obj)); print(obj.notnull())\n",
    "print(obj.plot())\n"
   ]
  },
  {
   "cell_type": "markdown",
   "id": "8df9faff",
   "metadata": {},
   "source": [
    "## DataFrame"
   ]
  },
  {
   "cell_type": "code",
   "execution_count": 14,
   "id": "150a8395",
   "metadata": {},
   "outputs": [
    {
     "data": {
      "text/html": [
       "<div>\n",
       "<style scoped>\n",
       "    .dataframe tbody tr th:only-of-type {\n",
       "        vertical-align: middle;\n",
       "    }\n",
       "\n",
       "    .dataframe tbody tr th {\n",
       "        vertical-align: top;\n",
       "    }\n",
       "\n",
       "    .dataframe thead th {\n",
       "        text-align: right;\n",
       "    }\n",
       "</style>\n",
       "<table border=\"1\" class=\"dataframe\">\n",
       "  <thead>\n",
       "    <tr style=\"text-align: right;\">\n",
       "      <th></th>\n",
       "      <th>shares</th>\n",
       "      <th>price(Million $)</th>\n",
       "      <th>ceo</th>\n",
       "      <th>email</th>\n",
       "    </tr>\n",
       "    <tr>\n",
       "      <th>name</th>\n",
       "      <th></th>\n",
       "      <th></th>\n",
       "      <th></th>\n",
       "      <th></th>\n",
       "    </tr>\n",
       "  </thead>\n",
       "  <tbody>\n",
       "    <tr>\n",
       "      <th>Amazon</th>\n",
       "      <td>100.0</td>\n",
       "      <td>12.3</td>\n",
       "      <td>Jeff</td>\n",
       "      <td>Jeff@Amazon.com</td>\n",
       "    </tr>\n",
       "    <tr>\n",
       "      <th>Google</th>\n",
       "      <td>90.0</td>\n",
       "      <td>32.2</td>\n",
       "      <td>Sundar</td>\n",
       "      <td>Sundar@Google.com</td>\n",
       "    </tr>\n",
       "    <tr>\n",
       "      <th>Apple</th>\n",
       "      <td>NaN</td>\n",
       "      <td>NaN</td>\n",
       "      <td>Tim</td>\n",
       "      <td>Tim@Apple.com</td>\n",
       "    </tr>\n",
       "  </tbody>\n",
       "</table>\n",
       "</div>"
      ],
      "text/plain": [
       "        shares  price(Million $)     ceo              email\n",
       "name                                                       \n",
       "Amazon   100.0              12.3    Jeff    Jeff@Amazon.com\n",
       "Google    90.0              32.2  Sundar  Sundar@Google.com\n",
       "Apple      NaN               NaN     Tim      Tim@Apple.com"
      ]
     },
     "execution_count": 14,
     "metadata": {},
     "output_type": "execute_result"
    }
   ],
   "source": [
    "import pandas as pd \n",
    "import numpy as np\n",
    "data = {'name':                   ['Amazon', 'Facebook', 'Google','Alphabet'],\n",
    "        'date':       ['2001-12-01', '2012-02-10', '2010-04-09','2011-05-10'],  \n",
    "        'shares':                                           [100, 30, 90, np.nan],\n",
    "        'price(Million $)':                           [12.3, 10.3, 32.2,10.5]\n",
    "        }\n",
    "\n",
    "df1=pd.DataFrame(data)\n",
    "\n",
    "\n",
    "df1.index=['I','II','III','IV']                     # To change the names of the row index from default values of 0,1,2...\n",
    "df1['ceo']=['Jeff','Mark','Sundar','Sundar']        # df['column_head']=['arg1','arg2',....] = To add a new column \n",
    "df1=df1.append({'name':'Apple','ceo':'Tim'},ignore_index=True)  #To add a new row\n",
    "df1['email']=df1['ceo']+'@'+df1['name']+'.com'      # Making a new column using previously existing columns\n",
    "df1=df1.set_index(['name'])                         # Name of companies will be used as indices\n",
    "df1['debt']=16.5                                    # Assigns debt of all companies =16.5\n",
    "del df1['debt']                                     # Deletes the debt column\n",
    "df1=df1.drop('date',axis=1)                         # df.drop('column_name ',axix=1)=To delete a column axis=1 for columns\n",
    "df1=df1.drop('Alphabet')#,axis=0)                   # df.drop('Row_name')=delete a row | df.drop(['r1',r2])=delete 1+ rows\n",
    "                                                        # df.drop(index=Number) to  drop a row when index is in numbers\n",
    "filt=df1['ceo']=='Mark'\n",
    "df1=df1.drop(index=df1[filt].index)                 # To delete a row that has its ceo name = Mark\n",
    "\n",
    "df1\n"
   ]
  },
  {
   "cell_type": "code",
   "execution_count": 15,
   "id": "9f7a9455",
   "metadata": {},
   "outputs": [
    {
     "data": {
      "text/html": [
       "<div>\n",
       "<style scoped>\n",
       "    .dataframe tbody tr th:only-of-type {\n",
       "        vertical-align: middle;\n",
       "    }\n",
       "\n",
       "    .dataframe tbody tr th {\n",
       "        vertical-align: top;\n",
       "    }\n",
       "\n",
       "    .dataframe thead th {\n",
       "        text-align: right;\n",
       "    }\n",
       "</style>\n",
       "<table border=\"1\" class=\"dataframe\">\n",
       "  <thead>\n",
       "    <tr style=\"text-align: right;\">\n",
       "      <th></th>\n",
       "      <th>ceo</th>\n",
       "      <th>email</th>\n",
       "      <th>price(Million $)</th>\n",
       "      <th>shares</th>\n",
       "    </tr>\n",
       "    <tr>\n",
       "      <th>name</th>\n",
       "      <th></th>\n",
       "      <th></th>\n",
       "      <th></th>\n",
       "      <th></th>\n",
       "    </tr>\n",
       "  </thead>\n",
       "  <tbody>\n",
       "    <tr>\n",
       "      <th>Tata</th>\n",
       "      <td>Ratan</td>\n",
       "      <td>TATA.org</td>\n",
       "      <td>9.2</td>\n",
       "      <td>75.0</td>\n",
       "    </tr>\n",
       "    <tr>\n",
       "      <th>Flipkart</th>\n",
       "      <td>Bansal</td>\n",
       "      <td>flipkart.com</td>\n",
       "      <td>5.4</td>\n",
       "      <td>NaN</td>\n",
       "    </tr>\n",
       "    <tr>\n",
       "      <th>None</th>\n",
       "      <td>Mukesh</td>\n",
       "      <td>Ril.in</td>\n",
       "      <td>NA</td>\n",
       "      <td>80.0</td>\n",
       "    </tr>\n",
       "  </tbody>\n",
       "</table>\n",
       "</div>"
      ],
      "text/plain": [
       "             ceo         email price(Million $)  shares\n",
       "name                                                   \n",
       "Tata       Ratan      TATA.org              9.2    75.0\n",
       "Flipkart  Bansal  flipkart.com              5.4     NaN\n",
       "None      Mukesh        Ril.in               NA    80.0"
      ]
     },
     "execution_count": 15,
     "metadata": {},
     "output_type": "execute_result"
    }
   ],
   "source": [
    "Data={\n",
    "    'name':['Tata', None ,'Flipkart'],\n",
    "    'shares':[75,80,np.nan],\n",
    "    'price(Million $)':[9.2,'NA',5.4],\n",
    "    'ceo':['Ratan','Ambani','Bansal'],\n",
    "     'email': ['TATA.org','Ril.in','flipkart.com']\n",
    "    \n",
    "}\n",
    "\n",
    "df2=pd.DataFrame(Data)\n",
    "df2.loc[1,'ceo']='Mukesh'                          # editing an element of the table\n",
    "df2=df2.set_index(['name'])\n",
    "df2=df2.sort_index()                               #Sorts the Row names alphabetically (A to Z)\n",
    "df2=df2.sort_index(axis=0,ascending=False)         # Reverse alphabetical sort (Z to A) : Axis=0 for rows(Default)\n",
    "df2=df2.sort_index(axis=1)                         # A to Z type sorting of column names\n",
    "df2"
   ]
  },
  {
   "cell_type": "code",
   "execution_count": null,
   "id": "8691f213",
   "metadata": {},
   "outputs": [],
   "source": []
  },
  {
   "cell_type": "code",
   "execution_count": null,
   "id": "f85d276e",
   "metadata": {},
   "outputs": [],
   "source": []
  }
 ],
 "metadata": {
  "kernelspec": {
   "display_name": "Python 3 (ipykernel)",
   "language": "python",
   "name": "python3"
  },
  "language_info": {
   "codemirror_mode": {
    "name": "ipython",
    "version": 3
   },
   "file_extension": ".py",
   "mimetype": "text/x-python",
   "name": "python",
   "nbconvert_exporter": "python",
   "pygments_lexer": "ipython3",
   "version": "3.10.9"
  }
 },
 "nbformat": 4,
 "nbformat_minor": 5
}
