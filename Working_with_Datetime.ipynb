{
  "cells": [
    {
      "cell_type": "code",
      "execution_count": null,
      "metadata": {
        "id": "NufSeKGsx7kQ"
      },
      "outputs": [],
      "source": [
        "import pandas as pd \n",
        "import datetime as dt"
      ]
    },
    {
      "cell_type": "markdown",
      "metadata": {
        "id": "OzZbeHWMx7kT"
      },
      "source": [
        "# Datetime"
      ]
    },
    {
      "cell_type": "code",
      "execution_count": null,
      "metadata": {
        "id": "ZmILG6bqx7kV",
        "outputId": "5e897947-563a-4b3e-9d98-4f79971c886c"
      },
      "outputs": [
        {
          "data": {
            "text/plain": [
              "56"
            ]
          },
          "execution_count": 5,
          "metadata": {},
          "output_type": "execute_result"
        }
      ],
      "source": [
        "today=dt.date(2020,5,2)\n",
        "today\n",
        "today.day\n",
        "today.month\n",
        "today.year\n",
        "\n",
        "today=dt.datetime(2020,5,2,10,45,56)\n",
        "today\n",
        "today.day\n",
        "today.month\n",
        "today.year\n",
        "today.hour\n",
        "today.minute\n",
        "today.second"
      ]
    },
    {
      "cell_type": "markdown",
      "metadata": {
        "id": "mULEOj0Mx7kW"
      },
      "source": [
        "# Timestamp"
      ]
    },
    {
      "cell_type": "code",
      "execution_count": null,
      "metadata": {
        "id": "U9zAmwYMx7kX",
        "outputId": "f11f296a-eec3-4863-8aeb-009a774a428c"
      },
      "outputs": [
        {
          "data": {
            "text/plain": [
              "Timestamp('2020-02-01 10:50:41')"
            ]
          },
          "execution_count": 6,
          "metadata": {},
          "output_type": "execute_result"
        }
      ],
      "source": [
        "today=pd.Timestamp('2020-05-02')\n",
        "today=pd.Timestamp('2020/05/02')\n",
        "today=pd.Timestamp('2020/05/02 3:23:45 PM')\n",
        "today=pd.Timestamp('2020,05,02 10:50:41 AM')\n",
        "today"
      ]
    },
    {
      "cell_type": "markdown",
      "metadata": {
        "id": "ZMvxI12Zx7kX"
      },
      "source": [
        "# Timedelta"
      ]
    },
    {
      "cell_type": "code",
      "execution_count": null,
      "metadata": {
        "id": "6fLPXdK1x7kY",
        "outputId": "0a6e9e83-b7a4-4fc2-a510-1710b1ebd210"
      },
      "outputs": [
        {
          "data": {
            "text/plain": [
              "Timedelta('73 days 10:39:00')"
            ]
          },
          "execution_count": 7,
          "metadata": {},
          "output_type": "execute_result"
        }
      ],
      "source": [
        "Time_A= pd.Timestamp('2020-05-02 12:13:45 PM')\n",
        "Time_B= pd.Timestamp('2020-05-04 12:13:45 AM')\n",
        "Time_gap=Time_B-Time_A\n",
        "Time_gap\n",
        "\n",
        "Days=pd.Timedelta(weeks=10,days=3,hours=10,minutes=36,seconds=180)\n",
        "Days"
      ]
    },
    {
      "cell_type": "markdown",
      "metadata": {
        "id": "cxo67aMqx7kY"
      },
      "source": [
        "# DatetimeIndex"
      ]
    },
    {
      "cell_type": "code",
      "execution_count": null,
      "metadata": {
        "id": "21uTuEKPx7kZ",
        "outputId": "15621a6e-4a44-47e9-feab-4d2a3fd7e44a"
      },
      "outputs": [
        {
          "data": {
            "text/plain": [
              "2020-05-06    25\n",
              "2020-01-05    31\n",
              "2020-02-08    45\n",
              "dtype: int64"
            ]
          },
          "execution_count": 8,
          "metadata": {},
          "output_type": "execute_result"
        }
      ],
      "source": [
        "dates=['2020/05/06','2020/01/05','2020/02/08']\n",
        "dateindex=pd.DatetimeIndex(dates)\n",
        "dateindex\n",
        "\n",
        "values=[25,31,45]\n",
        "series= pd.Series(data=values, index=dateindex)\n",
        "series"
      ]
    },
    {
      "cell_type": "markdown",
      "metadata": {
        "id": "uoCLl6Cux7ka"
      },
      "source": [
        "# pd.to_datetime()"
      ]
    },
    {
      "cell_type": "code",
      "execution_count": null,
      "metadata": {
        "id": "8ByJP86mx7ka",
        "outputId": "967e16ed-799f-4a20-ce75-8e6138d068f9"
      },
      "outputs": [
        {
          "data": {
            "text/plain": [
              "DatetimeIndex(['1970-06-02 22:52:05', '1970-02-22 19:55:45',\n",
              "               '1970-02-17 17:18:59'],\n",
              "              dtype='datetime64[ns]', freq=None)"
            ]
          },
          "execution_count": 9,
          "metadata": {},
          "output_type": "execute_result"
        }
      ],
      "source": [
        "pd.to_datetime('2020/05/02')\n",
        "pd.to_datetime(dt.date(2020,5,2))\n",
        "pd.to_datetime(dt.datetime(2020,5,2,15,17,23))\n",
        "\n",
        "dates=['2020/05/06','2020/01/05','2020/02/08']\n",
        "pd.to_datetime(dates)\n",
        "\n",
        "dates=['2020/05/06','May2,2020','This is time','April 22nd,2020']\n",
        "pd.to_datetime(dates,errors='coerce')                        # Return NaT(not a time) for the data that is not a time \n",
        "\n",
        "unixtime=['13215125','4564545','4123139']                    # Second Values \n",
        "pd.to_datetime(unixtime,unit='s')                            # converts these second values into human readable time format"
      ]
    },
    {
      "cell_type": "markdown",
      "metadata": {
        "id": "P-Zy7pDmx7kb"
      },
      "source": [
        "# pd.date_range()"
      ]
    },
    {
      "cell_type": "code",
      "execution_count": null,
      "metadata": {
        "id": "I7FgBhbLx7kb",
        "outputId": "15dc12a9-9be2-4ff8-d7d1-fdfbcd80c1d0"
      },
      "outputs": [
        {
          "data": {
            "text/plain": [
              "DatetimeIndex(['2019-10-27', '2019-11-03', '2019-11-10', '2019-11-17',\n",
              "               '2019-11-24', '2019-12-01', '2019-12-08', '2019-12-15',\n",
              "               '2019-12-22', '2019-12-29', '2020-01-05', '2020-01-12',\n",
              "               '2020-01-19', '2020-01-26', '2020-02-02', '2020-02-09',\n",
              "               '2020-02-16', '2020-02-23', '2020-03-01', '2020-03-08',\n",
              "               '2020-03-15', '2020-03-22', '2020-03-29', '2020-04-05',\n",
              "               '2020-04-12', '2020-04-19', '2020-04-26'],\n",
              "              dtype='datetime64[ns]', freq='W-SUN')"
            ]
          },
          "execution_count": 10,
          "metadata": {},
          "output_type": "execute_result"
        }
      ],
      "source": [
        "times=pd.date_range(start='2019/10/22',end='2020/5/2',freq='W')       #freq='D'(day),'H'(hour),'W'(weak)\n",
        "times"
      ]
    },
    {
      "cell_type": "markdown",
      "metadata": {
        "id": "86BSnETsx7kb"
      },
      "source": [
        "Reading Data From The Internet"
      ]
    },
    {
      "cell_type": "code",
      "execution_count": null,
      "metadata": {
        "id": "ymgpKA86x7kb",
        "outputId": "a7163980-0c1a-4064-b95f-447d9b8bb710"
      },
      "outputs": [
        {
          "data": {
            "text/html": [
              "<div>\n",
              "<style scoped>\n",
              "    .dataframe tbody tr th:only-of-type {\n",
              "        vertical-align: middle;\n",
              "    }\n",
              "\n",
              "    .dataframe tbody tr th {\n",
              "        vertical-align: top;\n",
              "    }\n",
              "\n",
              "    .dataframe thead th {\n",
              "        text-align: right;\n",
              "    }\n",
              "</style>\n",
              "<table border=\"1\" class=\"dataframe\">\n",
              "  <thead>\n",
              "    <tr style=\"text-align: right;\">\n",
              "      <th></th>\n",
              "      <th>High</th>\n",
              "      <th>Low</th>\n",
              "      <th>Open</th>\n",
              "      <th>Close</th>\n",
              "      <th>Volume</th>\n",
              "      <th>Adj Close</th>\n",
              "    </tr>\n",
              "    <tr>\n",
              "      <th>Date</th>\n",
              "      <th></th>\n",
              "      <th></th>\n",
              "      <th></th>\n",
              "      <th></th>\n",
              "      <th></th>\n",
              "      <th></th>\n",
              "    </tr>\n",
              "  </thead>\n",
              "  <tbody>\n",
              "    <tr>\n",
              "      <th>2019-12-24</th>\n",
              "      <td>157.710007</td>\n",
              "      <td>157.119995</td>\n",
              "      <td>157.479996</td>\n",
              "      <td>157.380005</td>\n",
              "      <td>8989200.0</td>\n",
              "      <td>156.951309</td>\n",
              "    </tr>\n",
              "    <tr>\n",
              "      <th>2019-12-26</th>\n",
              "      <td>158.729996</td>\n",
              "      <td>157.399994</td>\n",
              "      <td>157.559998</td>\n",
              "      <td>158.669998</td>\n",
              "      <td>14520600.0</td>\n",
              "      <td>158.237793</td>\n",
              "    </tr>\n",
              "    <tr>\n",
              "      <th>2019-12-27</th>\n",
              "      <td>159.550003</td>\n",
              "      <td>158.220001</td>\n",
              "      <td>159.449997</td>\n",
              "      <td>158.960007</td>\n",
              "      <td>18412800.0</td>\n",
              "      <td>158.527008</td>\n",
              "    </tr>\n",
              "  </tbody>\n",
              "</table>\n",
              "</div>"
            ],
            "text/plain": [
              "                  High         Low        Open       Close      Volume  \\\n",
              "Date                                                                     \n",
              "2019-12-24  157.710007  157.119995  157.479996  157.380005   8989200.0   \n",
              "2019-12-26  158.729996  157.399994  157.559998  158.669998  14520600.0   \n",
              "2019-12-27  159.550003  158.220001  159.449997  158.960007  18412800.0   \n",
              "\n",
              "             Adj Close  \n",
              "Date                    \n",
              "2019-12-24  156.951309  \n",
              "2019-12-26  158.237793  \n",
              "2019-12-27  158.527008  "
            ]
          },
          "execution_count": 12,
          "metadata": {},
          "output_type": "execute_result"
        }
      ],
      "source": [
        "from pandas_datareader import data\n",
        "company='MSFT'                                        #Microsoft\n",
        "start='2019-01-01'\n",
        "end='2020-01-01'\n",
        "df=data.DataReader(name=company,data_source='yahoo',start=start, end=end)\n",
        "df\n",
        "\n",
        "# Slicing\n",
        "df.loc['2019-01-07']\n",
        "df.loc['2019-01-07':'2019-05-07']\n",
        "df.truncate(before='2019-12-24',after='2019-12-28')  # Data before 2019-12-07 and after 2019-12-28 will be chopped off\n",
        "\n",
        "# Extracting Year,Months,days only\n"
      ]
    }
  ],
  "metadata": {
    "kernelspec": {
      "display_name": "Python 3",
      "language": "python",
      "name": "python3"
    },
    "language_info": {
      "codemirror_mode": {
        "name": "ipython",
        "version": 3
      },
      "file_extension": ".py",
      "mimetype": "text/x-python",
      "name": "python",
      "nbconvert_exporter": "python",
      "pygments_lexer": "ipython3",
      "version": "3.8.2"
    },
    "colab": {
      "provenance": []
    }
  },
  "nbformat": 4,
  "nbformat_minor": 0
}